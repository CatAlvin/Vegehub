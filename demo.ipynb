{
 "cells": [
  {
   "cell_type": "markdown",
   "metadata": {},
   "source": [
    "# 对数据库操作的演示"
   ]
  },
  {
   "cell_type": "code",
   "execution_count": null,
   "metadata": {},
   "outputs": [],
   "source": [
    "# 请先配置好数据库连接信息 -> database/config/database-config.txt\n",
    "# 请先运行该脚本，再运行其他脚本\n",
    "# 导入数据库依赖文件\n",
    "import database.utils as db_utils\n",
    "import database.models as db_models\n",
    "import database.api as db_api"
   ]
  },
  {
   "cell_type": "code",
   "execution_count": null,
   "metadata": {},
   "outputs": [],
   "source": [
    "# 简易化初始化数据库（创建数据库，创建数据表，内容生成）\n",
    "db_utils.init_database()"
   ]
  },
  {
   "cell_type": "code",
   "execution_count": null,
   "metadata": {},
   "outputs": [],
   "source": [
    "#使用api获取各类数据DataFrame\n",
    "vegeDF = db_api.getVegetableDataFrame() # 获取蔬菜数据并转换为 Pandas 的 DataFrame\n",
    "vegeDF.head()"
   ]
  },
  {
   "cell_type": "code",
   "execution_count": null,
   "metadata": {},
   "outputs": [],
   "source": [
    "# 使用api实用小工具\n",
    "# 获取所有顾客男女人数\n",
    "db_api.getCustomerGenderCounts()"
   ]
  },
  {
   "cell_type": "code",
   "execution_count": null,
   "metadata": {},
   "outputs": [],
   "source": [
    "# 获取某个蔬菜的评价词汇频率总汇\n",
    "db_api.getReviewWordFrequency(1)"
   ]
  },
  {
   "cell_type": "code",
   "execution_count": null,
   "metadata": {},
   "outputs": [],
   "source": [
    "# 制作云图\n",
    "import wordcloud as wc\n",
    "\n",
    "cloudText = ' '.join(db_api.getReviewWordFrequency('豆角').keys())\n",
    "wordCloud = wc.WordCloud(width=800, height=400, background_color='white').generate(cloudText)\n",
    "wordCloud.to_file('./imgs/豆角评价.png')\n",
    "wordCloud.to_image() # 显示图片"
   ]
  }
 ],
 "metadata": {
  "kernelspec": {
   "display_name": "venv",
   "language": "python",
   "name": "python3"
  },
  "language_info": {
   "codemirror_mode": {
    "name": "ipython",
    "version": 3
   },
   "file_extension": ".py",
   "mimetype": "text/x-python",
   "name": "python",
   "nbconvert_exporter": "python",
   "pygments_lexer": "ipython3",
   "version": "3.10.12"
  }
 },
 "nbformat": 4,
 "nbformat_minor": 2
}
