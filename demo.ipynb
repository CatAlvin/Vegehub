{
 "cells": [
  {
   "cell_type": "markdown",
   "metadata": {},
   "source": [
    "# 对数据库操作的演示"
   ]
  },
  {
   "cell_type": "code",
   "execution_count": 1,
   "metadata": {},
   "outputs": [
    {
     "name": "stderr",
     "output_type": "stream",
     "text": [
      "[nltk_data] Downloading package vader_lexicon to\n",
      "[nltk_data]     C:\\Users\\ASUS\\AppData\\Roaming\\nltk_data...\n",
      "[nltk_data]   Package vader_lexicon is already up-to-date!\n"
     ]
    }
   ],
   "source": [
    "# 请先配置好数据库连接信息 -> database/config/database-config.txt\n",
    "# 请先运行该脚本，再运行其他脚本\n",
    "# 导入数据库依赖文件\n",
    "import database.utils as db_utils\n",
    "import database.models as db_models\n",
    "import database.api as db_api"
   ]
  },
  {
   "cell_type": "code",
   "execution_count": 2,
   "metadata": {},
   "outputs": [
    {
     "name": "stdout",
     "output_type": "stream",
     "text": [
      "2024-05-23 20:47:59,080 - database.utils - WARNING - Database already exists.\n"
     ]
    },
    {
     "name": "stdout",
     "output_type": "stream",
     "text": [
      "2024-05-23 20:47:59,235 - database.utils - INFO - Tables dropped successfully.\n",
      "2024-05-23 20:47:59,426 - database.utils - INFO - Tables created successfully.\n",
      "2024-05-23 20:47:59,427 - database.utils - INFO - Start to generate fake data based on the config file.\n",
      "Adding Admin Data |████████████████████████████████████████| 3/3 [100%] in 0.0s (794.16/s) \n",
      "2024-05-23 20:47:59,483 - database.utils - INFO - Admin data added successfully.\n",
      "Adding Supplier Data |████████████████████████████████████████| 20/20 [100%] in 0.0s (10681.48/s) \n",
      "2024-05-23 20:47:59,499 - database.utils - INFO - Supplier data added successfully.\n",
      "Adding Vegetable Data |████████████████████████████████████████| 36/36 [100%] in 0.0s (48225.05/s) \n",
      "2024-05-23 20:47:59,520 - database.utils - INFO - Vegetable data added successfully.\n",
      "Adding Customer Data |████████████████████████████████████████| 2000/2000 [100%] in 0.1s (13534.65/s) \n",
      "2024-05-23 20:48:00,156 - database.utils - INFO - Customer data added successfully.\n",
      "Adding Customer Review Data |████████████████████████████████████████| 1000/1000 [100%] in 0.1s (8483.28/s) \n",
      "2024-05-23 20:48:00,545 - database.utils - INFO - Customer review data added successfully.\n",
      "Adding Market Price Data |████████████████████████████████████████| 1000/1000 [100%] in 0.1s (17885.15/s) \n",
      "2024-05-23 20:48:00,858 - database.utils - INFO - Market price data added successfully.\n",
      "on 0: 2024-05-23 20:48:00,861 - spider.api - INFO - Start to get data for 胡萝卜 in 2024 year 2 month\n",
      "on 5: 2024-05-23 20:48:07,446 - spider.api - INFO - Start to get data for 白菜 in 2024 year 2 month\n",
      "on 10: 2024-05-23 20:48:13,887 - spider.api - INFO - Start to get data for 土豆 in 2024 year 2 month\n",
      "on 15: 2024-05-23 20:48:20,555 - spider.api - INFO - Start to get data for 西红柿 in 2024 year 2 month\n",
      "on 20: 2024-05-23 20:48:26,308 - spider.api - INFO - Start to get data for 芹菜 in 2024 year 2 month\n",
      "on 25: 2024-05-23 20:48:31,634 - spider.api - INFO - Start to get data for 黄瓜 in 2024 year 2 month\n",
      "on 30: 2024-05-23 20:48:37,542 - spider.api - INFO - Start to get data for 青椒 in 2024 year 2 month\n",
      "on 35: 2024-05-23 20:48:58,012 - spider.api - INFO - Start to get data for 韭菜 in 2024 year 2 month\n",
      "on 40: 2024-05-23 20:49:04,536 - spider.api - INFO - Start to get data for 大葱 in 2024 year 2 month\n",
      "on 45: 2024-05-23 20:49:10,011 - spider.api - INFO - Start to get data for 白萝卜 in 2024 year 2 month\n",
      "on 50: 2024-05-23 20:49:15,065 - spider.api - INFO - Start to get data for 葱头 in 2024 year 2 month\n",
      "Crawling Market Data |████████████████████████████████████████| 55/55 [100%] in 1:25.6 (0.64/s) \n",
      "2024-05-23 20:49:26,419 - database.utils - INFO - Market data added successfully.\n",
      "2024-05-23 20:49:26,420 - database.utils - INFO - Fake data generated successfully.\n",
      "2024-05-23 20:49:26,421 - database.utils - INFO - Database initialized successfully.\n"
     ]
    }
   ],
   "source": [
    "# 简易化初始化数据库（创建数据库，创建数据表，内容生成）\n",
    "db_utils.init_database()"
   ]
  },
  {
   "cell_type": "code",
   "execution_count": 10,
   "metadata": {},
   "outputs": [
    {
     "data": {
      "text/html": [
       "<div>\n",
       "<style scoped>\n",
       "    .dataframe tbody tr th:only-of-type {\n",
       "        vertical-align: middle;\n",
       "    }\n",
       "\n",
       "    .dataframe tbody tr th {\n",
       "        vertical-align: top;\n",
       "    }\n",
       "\n",
       "    .dataframe thead th {\n",
       "        text-align: right;\n",
       "    }\n",
       "</style>\n",
       "<table border=\"1\" class=\"dataframe\">\n",
       "  <thead>\n",
       "    <tr style=\"text-align: right;\">\n",
       "      <th></th>\n",
       "      <th>vegetable_name</th>\n",
       "      <th>purchase_quantity</th>\n",
       "      <th>purchase_price</th>\n",
       "      <th>supplier_id</th>\n",
       "      <th>selling_price</th>\n",
       "      <th>vip_price</th>\n",
       "    </tr>\n",
       "    <tr>\n",
       "      <th>id</th>\n",
       "      <th></th>\n",
       "      <th></th>\n",
       "      <th></th>\n",
       "      <th></th>\n",
       "      <th></th>\n",
       "      <th></th>\n",
       "    </tr>\n",
       "  </thead>\n",
       "  <tbody>\n",
       "    <tr>\n",
       "      <th>1</th>\n",
       "      <td>西红柿</td>\n",
       "      <td>50.0</td>\n",
       "      <td>2.33</td>\n",
       "      <td>13</td>\n",
       "      <td>2.80</td>\n",
       "      <td>2.52</td>\n",
       "    </tr>\n",
       "    <tr>\n",
       "      <th>2</th>\n",
       "      <td>黄瓜</td>\n",
       "      <td>50.0</td>\n",
       "      <td>4.53</td>\n",
       "      <td>4</td>\n",
       "      <td>5.44</td>\n",
       "      <td>4.89</td>\n",
       "    </tr>\n",
       "    <tr>\n",
       "      <th>3</th>\n",
       "      <td>茄子</td>\n",
       "      <td>200.0</td>\n",
       "      <td>3.30</td>\n",
       "      <td>17</td>\n",
       "      <td>3.96</td>\n",
       "      <td>3.56</td>\n",
       "    </tr>\n",
       "    <tr>\n",
       "      <th>4</th>\n",
       "      <td>土豆</td>\n",
       "      <td>50.0</td>\n",
       "      <td>4.52</td>\n",
       "      <td>20</td>\n",
       "      <td>5.42</td>\n",
       "      <td>4.88</td>\n",
       "    </tr>\n",
       "    <tr>\n",
       "      <th>5</th>\n",
       "      <td>胡萝卜</td>\n",
       "      <td>100.0</td>\n",
       "      <td>4.25</td>\n",
       "      <td>20</td>\n",
       "      <td>5.10</td>\n",
       "      <td>4.59</td>\n",
       "    </tr>\n",
       "  </tbody>\n",
       "</table>\n",
       "</div>"
      ],
      "text/plain": [
       "   vegetable_name  purchase_quantity  purchase_price  supplier_id  \\\n",
       "id                                                                  \n",
       "1             西红柿               50.0            2.33           13   \n",
       "2              黄瓜               50.0            4.53            4   \n",
       "3              茄子              200.0            3.30           17   \n",
       "4              土豆               50.0            4.52           20   \n",
       "5             胡萝卜              100.0            4.25           20   \n",
       "\n",
       "    selling_price  vip_price  \n",
       "id                            \n",
       "1            2.80       2.52  \n",
       "2            5.44       4.89  \n",
       "3            3.96       3.56  \n",
       "4            5.42       4.88  \n",
       "5            5.10       4.59  "
      ]
     },
     "execution_count": 10,
     "metadata": {},
     "output_type": "execute_result"
    }
   ],
   "source": [
    "#使用api获取各类数据DataFrame\n",
    "vegeDF = db_api.getVegetableDataFrame() # 获取蔬菜数据并转换为 Pandas 的 DataFrame\n",
    "vegeDF.head()"
   ]
  },
  {
   "cell_type": "code",
   "execution_count": 8,
   "metadata": {},
   "outputs": [
    {
     "data": {
      "text/plain": [
       "{'male': 681, 'female': 819}"
      ]
     },
     "execution_count": 8,
     "metadata": {},
     "output_type": "execute_result"
    }
   ],
   "source": [
    "# 使用api实用小工具\n",
    "# 获取所有顾客男女人数\n",
    "db_api.getCustomerGenderCounts()"
   ]
  },
  {
   "cell_type": "code",
   "execution_count": 9,
   "metadata": {},
   "outputs": [
    {
     "ename": "LookupError",
     "evalue": "\n**********************************************************************\n  Resource \u001b[93mpunkt\u001b[0m not found.\n  Please use the NLTK Downloader to obtain the resource:\n\n  \u001b[31m>>> import nltk\n  >>> nltk.download('punkt')\n  \u001b[0m\n  For more information see: https://www.nltk.org/data.html\n\n  Attempted to load \u001b[93mtokenizers/punkt/english.pickle\u001b[0m\n\n  Searched in:\n    - 'C:\\\\Users\\\\ASUS/nltk_data'\n    - 'e:\\\\Y2-2\\\\workshop\\\\project\\\\hub\\\\Vegehub\\\\venv\\\\nltk_data'\n    - 'e:\\\\Y2-2\\\\workshop\\\\project\\\\hub\\\\Vegehub\\\\venv\\\\share\\\\nltk_data'\n    - 'e:\\\\Y2-2\\\\workshop\\\\project\\\\hub\\\\Vegehub\\\\venv\\\\lib\\\\nltk_data'\n    - 'C:\\\\Users\\\\ASUS\\\\AppData\\\\Roaming\\\\nltk_data'\n    - 'C:\\\\nltk_data'\n    - 'D:\\\\nltk_data'\n    - 'E:\\\\nltk_data'\n    - ''\n**********************************************************************\n",
     "output_type": "error",
     "traceback": [
      "\u001b[1;31m---------------------------------------------------------------------------\u001b[0m",
      "\u001b[1;31mLookupError\u001b[0m                               Traceback (most recent call last)",
      "Cell \u001b[1;32mIn[9], line 2\u001b[0m\n\u001b[0;32m      1\u001b[0m \u001b[38;5;66;03m# 获取某个蔬菜的评价词汇频率总汇\u001b[39;00m\n\u001b[1;32m----> 2\u001b[0m \u001b[43mdb_api\u001b[49m\u001b[38;5;241;43m.\u001b[39;49m\u001b[43mgetReviewWordFrequency\u001b[49m\u001b[43m(\u001b[49m\u001b[38;5;241;43m1\u001b[39;49m\u001b[43m)\u001b[49m\n",
      "File \u001b[1;32me:\\Y2-2\\workshop\\project\\hub\\Vegehub\\database\\api.py:140\u001b[0m, in \u001b[0;36mgetReviewWordFrequency\u001b[1;34m(vegetable_id)\u001b[0m\n\u001b[0;32m    138\u001b[0m reviews \u001b[38;5;241m=\u001b[39m session\u001b[38;5;241m.\u001b[39mquery(models\u001b[38;5;241m.\u001b[39mCustomerReview)\u001b[38;5;241m.\u001b[39mfilter(models\u001b[38;5;241m.\u001b[39mCustomerReview\u001b[38;5;241m.\u001b[39mvegetable_id \u001b[38;5;241m==\u001b[39m vegetable_id)\u001b[38;5;241m.\u001b[39mall()\n\u001b[0;32m    139\u001b[0m \u001b[38;5;28;01mfor\u001b[39;00m review \u001b[38;5;129;01min\u001b[39;00m reviews:\n\u001b[1;32m--> 140\u001b[0m     adjs \u001b[38;5;241m=\u001b[39m \u001b[43m__handleReviewTextToADJList\u001b[49m\u001b[43m(\u001b[49m\u001b[43mreview\u001b[49m\u001b[38;5;241;43m.\u001b[39;49m\u001b[43mreview_text\u001b[49m\u001b[43m)\u001b[49m\n\u001b[0;32m    141\u001b[0m     \u001b[38;5;28;01mfor\u001b[39;00m adj \u001b[38;5;129;01min\u001b[39;00m adjs:\n\u001b[0;32m    142\u001b[0m         adj_capitalized \u001b[38;5;241m=\u001b[39m adj\u001b[38;5;241m.\u001b[39mcapitalize()\n",
      "File \u001b[1;32me:\\Y2-2\\workshop\\project\\hub\\Vegehub\\database\\api.py:113\u001b[0m, in \u001b[0;36m__handleReviewTextToADJList\u001b[1;34m(review_text)\u001b[0m\n\u001b[0;32m    104\u001b[0m \u001b[38;5;28;01mdef\u001b[39;00m \u001b[38;5;21m__handleReviewTextToADJList\u001b[39m(review_text: \u001b[38;5;28mstr\u001b[39m) \u001b[38;5;241m-\u001b[39m\u001b[38;5;241m>\u001b[39m \u001b[38;5;28mlist\u001b[39m[\u001b[38;5;28mstr\u001b[39m]:\n\u001b[0;32m    105\u001b[0m \u001b[38;5;250m    \u001b[39m\u001b[38;5;124;03m\"\"\"Convert the review text to a list of adjectives use nltk\u001b[39;00m\n\u001b[0;32m    106\u001b[0m \n\u001b[0;32m    107\u001b[0m \u001b[38;5;124;03m    Args:\u001b[39;00m\n\u001b[1;32m   (...)\u001b[0m\n\u001b[0;32m    111\u001b[0m \u001b[38;5;124;03m        str: The converted list of adjectives\u001b[39;00m\n\u001b[0;32m    112\u001b[0m \u001b[38;5;124;03m    \"\"\"\u001b[39;00m\n\u001b[1;32m--> 113\u001b[0m     text \u001b[38;5;241m=\u001b[39m \u001b[43mword_tokenize\u001b[49m\u001b[43m(\u001b[49m\u001b[43mreview_text\u001b[49m\u001b[43m)\u001b[49m\n\u001b[0;32m    114\u001b[0m     \u001b[38;5;28;01mreturn\u001b[39;00m [word \u001b[38;5;28;01mfor\u001b[39;00m word, tag \u001b[38;5;129;01min\u001b[39;00m pos_tag(text) \u001b[38;5;28;01mif\u001b[39;00m tag \u001b[38;5;129;01min\u001b[39;00m [\u001b[38;5;124m'\u001b[39m\u001b[38;5;124mJJ\u001b[39m\u001b[38;5;124m'\u001b[39m, \u001b[38;5;124m'\u001b[39m\u001b[38;5;124mJJR\u001b[39m\u001b[38;5;124m'\u001b[39m, \u001b[38;5;124m'\u001b[39m\u001b[38;5;124mJJS\u001b[39m\u001b[38;5;124m'\u001b[39m, \u001b[38;5;124m'\u001b[39m\u001b[38;5;124mUH\u001b[39m\u001b[38;5;124m'\u001b[39m, \u001b[38;5;124m'\u001b[39m\u001b[38;5;124mWRB\u001b[39m\u001b[38;5;124m'\u001b[39m]]\n",
      "File \u001b[1;32me:\\Y2-2\\workshop\\project\\hub\\Vegehub\\venv\\lib\\site-packages\\nltk\\tokenize\\__init__.py:129\u001b[0m, in \u001b[0;36mword_tokenize\u001b[1;34m(text, language, preserve_line)\u001b[0m\n\u001b[0;32m    114\u001b[0m \u001b[38;5;28;01mdef\u001b[39;00m \u001b[38;5;21mword_tokenize\u001b[39m(text, language\u001b[38;5;241m=\u001b[39m\u001b[38;5;124m\"\u001b[39m\u001b[38;5;124menglish\u001b[39m\u001b[38;5;124m\"\u001b[39m, preserve_line\u001b[38;5;241m=\u001b[39m\u001b[38;5;28;01mFalse\u001b[39;00m):\n\u001b[0;32m    115\u001b[0m \u001b[38;5;250m    \u001b[39m\u001b[38;5;124;03m\"\"\"\u001b[39;00m\n\u001b[0;32m    116\u001b[0m \u001b[38;5;124;03m    Return a tokenized copy of *text*,\u001b[39;00m\n\u001b[0;32m    117\u001b[0m \u001b[38;5;124;03m    using NLTK's recommended word tokenizer\u001b[39;00m\n\u001b[1;32m   (...)\u001b[0m\n\u001b[0;32m    127\u001b[0m \u001b[38;5;124;03m    :type preserve_line: bool\u001b[39;00m\n\u001b[0;32m    128\u001b[0m \u001b[38;5;124;03m    \"\"\"\u001b[39;00m\n\u001b[1;32m--> 129\u001b[0m     sentences \u001b[38;5;241m=\u001b[39m [text] \u001b[38;5;28;01mif\u001b[39;00m preserve_line \u001b[38;5;28;01melse\u001b[39;00m \u001b[43msent_tokenize\u001b[49m\u001b[43m(\u001b[49m\u001b[43mtext\u001b[49m\u001b[43m,\u001b[49m\u001b[43m \u001b[49m\u001b[43mlanguage\u001b[49m\u001b[43m)\u001b[49m\n\u001b[0;32m    130\u001b[0m     \u001b[38;5;28;01mreturn\u001b[39;00m [\n\u001b[0;32m    131\u001b[0m         token \u001b[38;5;28;01mfor\u001b[39;00m sent \u001b[38;5;129;01min\u001b[39;00m sentences \u001b[38;5;28;01mfor\u001b[39;00m token \u001b[38;5;129;01min\u001b[39;00m _treebank_word_tokenizer\u001b[38;5;241m.\u001b[39mtokenize(sent)\n\u001b[0;32m    132\u001b[0m     ]\n",
      "File \u001b[1;32me:\\Y2-2\\workshop\\project\\hub\\Vegehub\\venv\\lib\\site-packages\\nltk\\tokenize\\__init__.py:106\u001b[0m, in \u001b[0;36msent_tokenize\u001b[1;34m(text, language)\u001b[0m\n\u001b[0;32m     96\u001b[0m \u001b[38;5;28;01mdef\u001b[39;00m \u001b[38;5;21msent_tokenize\u001b[39m(text, language\u001b[38;5;241m=\u001b[39m\u001b[38;5;124m\"\u001b[39m\u001b[38;5;124menglish\u001b[39m\u001b[38;5;124m\"\u001b[39m):\n\u001b[0;32m     97\u001b[0m \u001b[38;5;250m    \u001b[39m\u001b[38;5;124;03m\"\"\"\u001b[39;00m\n\u001b[0;32m     98\u001b[0m \u001b[38;5;124;03m    Return a sentence-tokenized copy of *text*,\u001b[39;00m\n\u001b[0;32m     99\u001b[0m \u001b[38;5;124;03m    using NLTK's recommended sentence tokenizer\u001b[39;00m\n\u001b[1;32m   (...)\u001b[0m\n\u001b[0;32m    104\u001b[0m \u001b[38;5;124;03m    :param language: the model name in the Punkt corpus\u001b[39;00m\n\u001b[0;32m    105\u001b[0m \u001b[38;5;124;03m    \"\"\"\u001b[39;00m\n\u001b[1;32m--> 106\u001b[0m     tokenizer \u001b[38;5;241m=\u001b[39m \u001b[43mload\u001b[49m\u001b[43m(\u001b[49m\u001b[38;5;124;43mf\u001b[39;49m\u001b[38;5;124;43m\"\u001b[39;49m\u001b[38;5;124;43mtokenizers/punkt/\u001b[39;49m\u001b[38;5;132;43;01m{\u001b[39;49;00m\u001b[43mlanguage\u001b[49m\u001b[38;5;132;43;01m}\u001b[39;49;00m\u001b[38;5;124;43m.pickle\u001b[39;49m\u001b[38;5;124;43m\"\u001b[39;49m\u001b[43m)\u001b[49m\n\u001b[0;32m    107\u001b[0m     \u001b[38;5;28;01mreturn\u001b[39;00m tokenizer\u001b[38;5;241m.\u001b[39mtokenize(text)\n",
      "File \u001b[1;32me:\\Y2-2\\workshop\\project\\hub\\Vegehub\\venv\\lib\\site-packages\\nltk\\data.py:750\u001b[0m, in \u001b[0;36mload\u001b[1;34m(resource_url, format, cache, verbose, logic_parser, fstruct_reader, encoding)\u001b[0m\n\u001b[0;32m    747\u001b[0m     \u001b[38;5;28mprint\u001b[39m(\u001b[38;5;124mf\u001b[39m\u001b[38;5;124m\"\u001b[39m\u001b[38;5;124m<<Loading \u001b[39m\u001b[38;5;132;01m{\u001b[39;00mresource_url\u001b[38;5;132;01m}\u001b[39;00m\u001b[38;5;124m>>\u001b[39m\u001b[38;5;124m\"\u001b[39m)\n\u001b[0;32m    749\u001b[0m \u001b[38;5;66;03m# Load the resource.\u001b[39;00m\n\u001b[1;32m--> 750\u001b[0m opened_resource \u001b[38;5;241m=\u001b[39m \u001b[43m_open\u001b[49m\u001b[43m(\u001b[49m\u001b[43mresource_url\u001b[49m\u001b[43m)\u001b[49m\n\u001b[0;32m    752\u001b[0m \u001b[38;5;28;01mif\u001b[39;00m \u001b[38;5;28mformat\u001b[39m \u001b[38;5;241m==\u001b[39m \u001b[38;5;124m\"\u001b[39m\u001b[38;5;124mraw\u001b[39m\u001b[38;5;124m\"\u001b[39m:\n\u001b[0;32m    753\u001b[0m     resource_val \u001b[38;5;241m=\u001b[39m opened_resource\u001b[38;5;241m.\u001b[39mread()\n",
      "File \u001b[1;32me:\\Y2-2\\workshop\\project\\hub\\Vegehub\\venv\\lib\\site-packages\\nltk\\data.py:876\u001b[0m, in \u001b[0;36m_open\u001b[1;34m(resource_url)\u001b[0m\n\u001b[0;32m    873\u001b[0m protocol, path_ \u001b[38;5;241m=\u001b[39m split_resource_url(resource_url)\n\u001b[0;32m    875\u001b[0m \u001b[38;5;28;01mif\u001b[39;00m protocol \u001b[38;5;129;01mis\u001b[39;00m \u001b[38;5;28;01mNone\u001b[39;00m \u001b[38;5;129;01mor\u001b[39;00m protocol\u001b[38;5;241m.\u001b[39mlower() \u001b[38;5;241m==\u001b[39m \u001b[38;5;124m\"\u001b[39m\u001b[38;5;124mnltk\u001b[39m\u001b[38;5;124m\"\u001b[39m:\n\u001b[1;32m--> 876\u001b[0m     \u001b[38;5;28;01mreturn\u001b[39;00m \u001b[43mfind\u001b[49m\u001b[43m(\u001b[49m\u001b[43mpath_\u001b[49m\u001b[43m,\u001b[49m\u001b[43m \u001b[49m\u001b[43mpath\u001b[49m\u001b[43m \u001b[49m\u001b[38;5;241;43m+\u001b[39;49m\u001b[43m \u001b[49m\u001b[43m[\u001b[49m\u001b[38;5;124;43m\"\u001b[39;49m\u001b[38;5;124;43m\"\u001b[39;49m\u001b[43m]\u001b[49m\u001b[43m)\u001b[49m\u001b[38;5;241m.\u001b[39mopen()\n\u001b[0;32m    877\u001b[0m \u001b[38;5;28;01melif\u001b[39;00m protocol\u001b[38;5;241m.\u001b[39mlower() \u001b[38;5;241m==\u001b[39m \u001b[38;5;124m\"\u001b[39m\u001b[38;5;124mfile\u001b[39m\u001b[38;5;124m\"\u001b[39m:\n\u001b[0;32m    878\u001b[0m     \u001b[38;5;66;03m# urllib might not use mode='rb', so handle this one ourselves:\u001b[39;00m\n\u001b[0;32m    879\u001b[0m     \u001b[38;5;28;01mreturn\u001b[39;00m find(path_, [\u001b[38;5;124m\"\u001b[39m\u001b[38;5;124m\"\u001b[39m])\u001b[38;5;241m.\u001b[39mopen()\n",
      "File \u001b[1;32me:\\Y2-2\\workshop\\project\\hub\\Vegehub\\venv\\lib\\site-packages\\nltk\\data.py:583\u001b[0m, in \u001b[0;36mfind\u001b[1;34m(resource_name, paths)\u001b[0m\n\u001b[0;32m    581\u001b[0m sep \u001b[38;5;241m=\u001b[39m \u001b[38;5;124m\"\u001b[39m\u001b[38;5;124m*\u001b[39m\u001b[38;5;124m\"\u001b[39m \u001b[38;5;241m*\u001b[39m \u001b[38;5;241m70\u001b[39m\n\u001b[0;32m    582\u001b[0m resource_not_found \u001b[38;5;241m=\u001b[39m \u001b[38;5;124mf\u001b[39m\u001b[38;5;124m\"\u001b[39m\u001b[38;5;130;01m\\n\u001b[39;00m\u001b[38;5;132;01m{\u001b[39;00msep\u001b[38;5;132;01m}\u001b[39;00m\u001b[38;5;130;01m\\n\u001b[39;00m\u001b[38;5;132;01m{\u001b[39;00mmsg\u001b[38;5;132;01m}\u001b[39;00m\u001b[38;5;130;01m\\n\u001b[39;00m\u001b[38;5;132;01m{\u001b[39;00msep\u001b[38;5;132;01m}\u001b[39;00m\u001b[38;5;130;01m\\n\u001b[39;00m\u001b[38;5;124m\"\u001b[39m\n\u001b[1;32m--> 583\u001b[0m \u001b[38;5;28;01mraise\u001b[39;00m \u001b[38;5;167;01mLookupError\u001b[39;00m(resource_not_found)\n",
      "\u001b[1;31mLookupError\u001b[0m: \n**********************************************************************\n  Resource \u001b[93mpunkt\u001b[0m not found.\n  Please use the NLTK Downloader to obtain the resource:\n\n  \u001b[31m>>> import nltk\n  >>> nltk.download('punkt')\n  \u001b[0m\n  For more information see: https://www.nltk.org/data.html\n\n  Attempted to load \u001b[93mtokenizers/punkt/english.pickle\u001b[0m\n\n  Searched in:\n    - 'C:\\\\Users\\\\ASUS/nltk_data'\n    - 'e:\\\\Y2-2\\\\workshop\\\\project\\\\hub\\\\Vegehub\\\\venv\\\\nltk_data'\n    - 'e:\\\\Y2-2\\\\workshop\\\\project\\\\hub\\\\Vegehub\\\\venv\\\\share\\\\nltk_data'\n    - 'e:\\\\Y2-2\\\\workshop\\\\project\\\\hub\\\\Vegehub\\\\venv\\\\lib\\\\nltk_data'\n    - 'C:\\\\Users\\\\ASUS\\\\AppData\\\\Roaming\\\\nltk_data'\n    - 'C:\\\\nltk_data'\n    - 'D:\\\\nltk_data'\n    - 'E:\\\\nltk_data'\n    - ''\n**********************************************************************\n"
     ]
    }
   ],
   "source": [
    "# 获取某个蔬菜的评价词汇频率总汇\n",
    "db_api.getReviewWordFrequency(1)"
   ]
  },
  {
   "cell_type": "code",
   "execution_count": null,
   "metadata": {},
   "outputs": [],
   "source": [
    "# 制作云图\n",
    "import wordcloud as wc\n",
    "\n",
    "cloudText = ' '.join(db_api.getReviewWordFrequency('豆角').keys())\n",
    "wordCloud = wc.WordCloud(width=800, height=400, background_color='white').generate(cloudText)\n",
    "wordCloud.to_file('./imgs/豆角评价.png')\n",
    "wordCloud.to_image() # 显示图片"
   ]
  }
 ],
 "metadata": {
  "kernelspec": {
   "display_name": "venv",
   "language": "python",
   "name": "python3"
  },
  "language_info": {
   "codemirror_mode": {
    "name": "ipython",
    "version": 3
   },
   "file_extension": ".py",
   "mimetype": "text/x-python",
   "name": "python",
   "nbconvert_exporter": "python",
   "pygments_lexer": "ipython3",
   "version": "3.10.12"
  }
 },
 "nbformat": 4,
 "nbformat_minor": 2
}
